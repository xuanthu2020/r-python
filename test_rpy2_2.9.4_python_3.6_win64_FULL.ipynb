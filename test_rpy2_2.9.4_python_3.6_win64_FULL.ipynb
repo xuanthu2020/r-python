{
 "cells": [
  {
   "cell_type": "code",
   "execution_count": 1,
   "metadata": {
    "collapsed": true
   },
   "outputs": [],
   "source": [
    "import rpy2.interactive as ri\n",
    "import rpy2.interactive.packages # this can take few seconds\n",
    "\n",
    "import pandas as pd"
   ]
  },
  {
   "cell_type": "code",
   "execution_count": 2,
   "metadata": {},
   "outputs": [
    {
     "data": {
      "text/html": [
       "\n",
       "    <span>IntVector with 10 elements.</span>\n",
       "    <table>\n",
       "      <tbody>\n",
       "      <tr>\n",
       "      \n",
       "      <td>\n",
       "        0\n",
       "      </td>\n",
       "      \n",
       "      <td>\n",
       "        1\n",
       "      </td>\n",
       "      \n",
       "      <td>\n",
       "        2\n",
       "      </td>\n",
       "      \n",
       "      <td>\n",
       "        3\n",
       "      </td>\n",
       "      \n",
       "      <td>\n",
       "        ...\n",
       "      </td>\n",
       "      \n",
       "      <td>\n",
       "        6\n",
       "      </td>\n",
       "      \n",
       "      <td>\n",
       "        7\n",
       "      </td>\n",
       "      \n",
       "      <td>\n",
       "        8\n",
       "      </td>\n",
       "      \n",
       "      <td>\n",
       "        9\n",
       "      </td>\n",
       "      \n",
       "      </tr>\n",
       "      </tbody>\n",
       "    </table>\n",
       "    "
      ],
      "text/plain": [
       "R object with classes: ('integer',) mapped to:\n",
       "<IntVector - Python:0x0000021BE5B3F788 / R:0x0000021BCC4FC160>\n",
       "[0, 1, 2, 3, ..., 6, 7, 8, 9]"
      ]
     },
     "execution_count": 2,
     "metadata": {},
     "output_type": "execute_result"
    }
   ],
   "source": [
    "ri.IntVector(range(10))\n"
   ]
  },
  {
   "cell_type": "code",
   "execution_count": 3,
   "metadata": {},
   "outputs": [
    {
     "data": {
      "text/plain": [
       "rpy2.robjects.packages.Package as a <module 'cluster'>"
      ]
     },
     "execution_count": 3,
     "metadata": {},
     "output_type": "execute_result"
    }
   ],
   "source": [
    "ri.packages.importr(\"cluster\")\n"
   ]
  },
  {
   "cell_type": "code",
   "execution_count": 4,
   "metadata": {},
   "outputs": [
    {
     "data": {
      "text/plain": [
       "rpy2.robjects.packages.Package as a <module 'utils'>"
      ]
     },
     "execution_count": 4,
     "metadata": {},
     "output_type": "execute_result"
    }
   ],
   "source": [
    "ri.packages.importr(\"utils\")\n"
   ]
  },
  {
   "cell_type": "code",
   "execution_count": 5,
   "metadata": {
    "collapsed": true
   },
   "outputs": [],
   "source": [
    "rlib = ri.packages.packages\n"
   ]
  },
  {
   "cell_type": "code",
   "execution_count": 6,
   "metadata": {
    "collapsed": true
   },
   "outputs": [],
   "source": [
    "m = rlib.utils.available_packages()\n"
   ]
  },
  {
   "cell_type": "code",
   "execution_count": 7,
   "metadata": {
    "collapsed": true
   },
   "outputs": [],
   "source": [
    "from rpy2.robjects import r, pandas2ri\n"
   ]
  },
  {
   "cell_type": "code",
   "execution_count": 8,
   "metadata": {
    "collapsed": true
   },
   "outputs": [],
   "source": [
    "pandas2ri.activate() # data conversion\n"
   ]
  },
  {
   "cell_type": "code",
   "execution_count": 9,
   "metadata": {
    "collapsed": true
   },
   "outputs": [],
   "source": [
    "from rpy2.robjects.packages import importr # control plot\n",
    "grdevices = importr('grDevices')\n"
   ]
  },
  {
   "cell_type": "code",
   "execution_count": 10,
   "metadata": {
    "collapsed": true
   },
   "outputs": [],
   "source": [
    "## LINEAR REGRESSION"
   ]
  },
  {
   "cell_type": "code",
   "execution_count": 11,
   "metadata": {},
   "outputs": [
    {
     "data": {
      "text/plain": [
       "array([-1.43354614, -1.20734356, -0.37847759, -1.47980195, -0.67003438,\n",
       "       -1.30881471,  0.12170768, -0.89727989,  1.11979533,  0.69710328,\n",
       "       -0.15243125, -0.40759284, -0.44617171, -0.01692279,  0.29655089,\n",
       "       -0.60767932,  0.1287987 ,  0.81724004, -0.37694352, -1.93723894,\n",
       "       -0.06750412,  0.03165215, -0.11935947, -0.65201328,  1.092414  ,\n",
       "        0.64311406, -2.80519108, -0.92188602,  0.54913669,  0.07626613,\n",
       "        0.93943238,  0.04695699, -0.45431714,  0.04267722,  0.71009706,\n",
       "        0.02254498, -0.35481236,  0.59563573,  1.58710691,  0.63808648,\n",
       "        0.74606604,  1.57944502, -1.79033772,  1.4962623 , -0.75344475,\n",
       "       -0.19775517,  1.22328061, -0.70204036,  0.10563071, -0.54104782,\n",
       "        0.70908172,  0.81686803, -1.28828795, -1.08427079,  1.47934946,\n",
       "       -0.92581982, -1.23174435,  0.52814051, -1.49600193, -1.41447307,\n",
       "       -2.07488682,  0.73208039,  0.44513879, -1.01389783, -1.29761646,\n",
       "        0.53513595, -0.79892209, -0.5049128 ,  1.08663442, -1.70863219,\n",
       "       -0.02805772, -0.11578776,  0.43297076,  1.10398293, -1.31313534,\n",
       "        0.77328804, -1.09375375,  0.76634968,  1.44308185, -0.10136844,\n",
       "        0.54562216,  0.95412098,  1.74356304, -0.34759386,  0.11024295,\n",
       "       -0.61904414, -0.95504537, -2.3770538 , -0.28744295,  2.46763942,\n",
       "       -0.54082927,  0.21887342,  0.05270561,  0.23235838,  0.92595174,\n",
       "       -0.72706863, -1.43831243,  0.91610804, -0.1592844 ,  0.01297468])"
      ]
     },
     "execution_count": 11,
     "metadata": {},
     "output_type": "execute_result"
    }
   ],
   "source": [
    "r('x <- rnorm(100)')  # generate x at R\n"
   ]
  },
  {
   "cell_type": "code",
   "execution_count": 12,
   "metadata": {},
   "outputs": [
    {
     "data": {
      "text/plain": [
       "array([-1.57641888, -1.13352502,  0.06238649, -1.7074333 ,  0.97868457,\n",
       "       -1.89492458, -0.11341499, -0.34450697,  1.24344815, -0.11382473,\n",
       "       -0.34196561, -1.29551529, -0.92247074,  0.01872758,  0.22179262,\n",
       "       -0.60886078, -0.04459229,  0.81924631,  0.12198842, -1.75559313,\n",
       "        0.27660694,  0.98723045,  0.5367346 , -0.70689634,  1.27306679,\n",
       "        1.37374027, -2.67574171, -1.29961053,  0.72766096,  0.8580661 ,\n",
       "        0.77623811, -0.1353942 , -0.16312843, -0.22317618,  1.03233908,\n",
       "        0.48152503, -0.7215401 ,  0.50965441,  1.91099142,  1.53589964,\n",
       "        0.5390784 ,  0.94116039, -2.93910066,  1.95608249, -0.99035834,\n",
       "        0.09755004,  0.49211487, -0.31635764,  0.47126495, -0.47494478,\n",
       "        0.71939744, -0.48307804, -2.43701267, -0.76710974,  1.74047329,\n",
       "       -0.98483079, -0.54073502,  0.21173743, -1.7676904 , -0.54237668,\n",
       "       -0.88485881,  1.33416305,  1.08729702, -0.8778229 , -0.67276915,\n",
       "        0.81629725, -1.59964826,  0.20038604,  1.33792457, -1.35886808,\n",
       "        0.39703165,  0.19749427,  0.33051651,  0.71136886, -1.15417536,\n",
       "        1.272443  , -1.48009413,  0.4121732 ,  2.33065808, -0.02799186,\n",
       "        1.33704513,  0.86822117,  2.06112498, -1.145861  ,  0.39373438,\n",
       "       -0.78141541, -0.89188024, -2.85241246,  0.10935938,  1.61830749,\n",
       "       -0.71846986,  1.01580835,  0.32011699, -0.0159153 ,  0.76592527,\n",
       "       -0.89113036, -1.42676242,  1.24579568, -0.28945141,  0.41231471])"
      ]
     },
     "execution_count": 12,
     "metadata": {},
     "output_type": "execute_result"
    }
   ],
   "source": [
    "r('y <- x + rnorm(100,sd=0.5)')  # generate y at R\n"
   ]
  },
  {
   "cell_type": "code",
   "execution_count": 13,
   "metadata": {},
   "outputs": [
    {
     "data": {
      "text/plain": [
       "rpy2.rinterface.NULL"
      ]
     },
     "execution_count": 13,
     "metadata": {},
     "output_type": "execute_result"
    }
   ],
   "source": [
    "r('plot(x,y)')  # have R plot them\n"
   ]
  },
  {
   "cell_type": "code",
   "execution_count": 14,
   "metadata": {
    "collapsed": true
   },
   "outputs": [],
   "source": [
    "grdevices.dev_off();\n"
   ]
  },
  {
   "cell_type": "code",
   "execution_count": 15,
   "metadata": {
    "collapsed": true
   },
   "outputs": [],
   "source": [
    "r('lmout <- lm(y~x)');  # run the regression\n"
   ]
  },
  {
   "cell_type": "code",
   "execution_count": 16,
   "metadata": {
    "collapsed": true
   },
   "outputs": [],
   "source": [
    "loclmout = r('summary(lmout)') # download lmout from R to Python\n"
   ]
  },
  {
   "cell_type": "code",
   "execution_count": 17,
   "metadata": {},
   "outputs": [
    {
     "name": "stdout",
     "output_type": "stream",
     "text": [
      "\n",
      "\r\n",
      "Call:\n",
      "\r\n",
      "lm(formula = y ~ x)\n",
      "\r\n",
      "\n",
      "\r\n",
      "Residuals:\n",
      "\r\n",
      "    Min      1Q  Median      3Q     Max \n",
      "\r\n",
      "-1.3782 -0.2894 -0.0024  0.3124  1.5728 \n",
      "\r\n",
      "\n",
      "\r\n",
      "Coefficients:\n",
      "\r\n",
      "            Estimate Std. Error t value Pr(>|t|)    \n",
      "\r\n",
      "(Intercept)  0.07700    0.05245   1.468    0.145    \n",
      "\r\n",
      "x            1.00154    0.05261  19.039   <2e-16 ***\n",
      "\r\n",
      "---\n",
      "\r\n",
      "Signif. codes:  0 '***' 0.001 '**' 0.01 '*' 0.05 '.' 0.1 ' ' 1\n",
      "\r\n",
      "\n",
      "\r\n",
      "Residual standard error: 0.5212 on 98 degrees of freedom\n",
      "\r\n",
      "Multiple R-squared:  0.7872,\tAdjusted R-squared:  0.785 \n",
      "\r\n",
      "F-statistic: 362.5 on 1 and 98 DF,  p-value: < 2.2e-16\n",
      "\r\n",
      "\n",
      "\n"
     ]
    }
   ],
   "source": [
    "print(loclmout)  # print locally\n"
   ]
  },
  {
   "cell_type": "code",
   "execution_count": null,
   "metadata": {
    "collapsed": true
   },
   "outputs": [],
   "source": []
  },
  {
   "cell_type": "code",
   "execution_count": 18,
   "metadata": {
    "collapsed": true
   },
   "outputs": [],
   "source": [
    "grdevices.png(file=\"Rpy2Curve_sin.png\", width=512, height=512)\n",
    "p = r('curve(sin, -2*pi, 2*pi)')\n",
    "grdevices.dev_off();\n",
    "\n"
   ]
  },
  {
   "cell_type": "code",
   "execution_count": 19,
   "metadata": {
    "collapsed": true
   },
   "outputs": [],
   "source": [
    "grdevices.png(file=\"Rpy2Curve_x2.png\", width=512, height=512)\n",
    "r('''eq <- function(x) {x*x}''')\n",
    "p = r('curve(eq,1,1000)')            # OUTPUTS TO FILE\n",
    "grdevices.dev_off();\n"
   ]
  },
  {
   "cell_type": "code",
   "execution_count": 20,
   "metadata": {
    "collapsed": true
   },
   "outputs": [],
   "source": [
    "p = r('curve(eq,1,1000)')            # OUTPUTS TO SCREEN \n"
   ]
  },
  {
   "cell_type": "code",
   "execution_count": 21,
   "metadata": {
    "collapsed": true
   },
   "outputs": [],
   "source": [
    "grdevices.dev_off();\n"
   ]
  },
  {
   "cell_type": "code",
   "execution_count": 22,
   "metadata": {
    "collapsed": true
   },
   "outputs": [],
   "source": [
    "# LOAD DATA\n",
    "r_df = r.data('iris')\n"
   ]
  },
  {
   "cell_type": "code",
   "execution_count": 23,
   "metadata": {},
   "outputs": [
    {
     "data": {
      "text/html": [
       "<div>\n",
       "<style>\n",
       "    .dataframe thead tr:only-child th {\n",
       "        text-align: right;\n",
       "    }\n",
       "\n",
       "    .dataframe thead th {\n",
       "        text-align: left;\n",
       "    }\n",
       "\n",
       "    .dataframe tbody tr th {\n",
       "        vertical-align: top;\n",
       "    }\n",
       "</style>\n",
       "<table border=\"1\" class=\"dataframe\">\n",
       "  <thead>\n",
       "    <tr style=\"text-align: right;\">\n",
       "      <th></th>\n",
       "      <th>Sepal.Length</th>\n",
       "      <th>Sepal.Width</th>\n",
       "      <th>Petal.Length</th>\n",
       "      <th>Petal.Width</th>\n",
       "      <th>Species</th>\n",
       "    </tr>\n",
       "  </thead>\n",
       "  <tbody>\n",
       "    <tr>\n",
       "      <th>0</th>\n",
       "      <td>5.1</td>\n",
       "      <td>3.5</td>\n",
       "      <td>1.4</td>\n",
       "      <td>0.2</td>\n",
       "      <td>setosa</td>\n",
       "    </tr>\n",
       "    <tr>\n",
       "      <th>1</th>\n",
       "      <td>4.9</td>\n",
       "      <td>3.0</td>\n",
       "      <td>1.4</td>\n",
       "      <td>0.2</td>\n",
       "      <td>setosa</td>\n",
       "    </tr>\n",
       "    <tr>\n",
       "      <th>2</th>\n",
       "      <td>4.7</td>\n",
       "      <td>3.2</td>\n",
       "      <td>1.3</td>\n",
       "      <td>0.2</td>\n",
       "      <td>setosa</td>\n",
       "    </tr>\n",
       "    <tr>\n",
       "      <th>3</th>\n",
       "      <td>4.6</td>\n",
       "      <td>3.1</td>\n",
       "      <td>1.5</td>\n",
       "      <td>0.2</td>\n",
       "      <td>setosa</td>\n",
       "    </tr>\n",
       "    <tr>\n",
       "      <th>4</th>\n",
       "      <td>5.0</td>\n",
       "      <td>3.6</td>\n",
       "      <td>1.4</td>\n",
       "      <td>0.2</td>\n",
       "      <td>setosa</td>\n",
       "    </tr>\n",
       "  </tbody>\n",
       "</table>\n",
       "</div>"
      ],
      "text/plain": [
       "   Sepal.Length  Sepal.Width  Petal.Length  Petal.Width Species\n",
       "0           5.1          3.5           1.4          0.2  setosa\n",
       "1           4.9          3.0           1.4          0.2  setosa\n",
       "2           4.7          3.2           1.3          0.2  setosa\n",
       "3           4.6          3.1           1.5          0.2  setosa\n",
       "4           5.0          3.6           1.4          0.2  setosa"
      ]
     },
     "execution_count": 23,
     "metadata": {},
     "output_type": "execute_result"
    }
   ],
   "source": [
    "r['iris'].head()\n",
    "# r_df.head()\n"
   ]
  },
  {
   "cell_type": "code",
   "execution_count": 24,
   "metadata": {},
   "outputs": [],
   "source": [
    "# CONVERT DATAFRAME FROM PY-PANDAS TO R\n",
    "df = pd.DataFrame({'A': [1, 2, 3], 'B': [4, 5, 6], 'C':[7,8,9]}, index=[\"one\", \"two\", \"three\"])\n"
   ]
  },
  {
   "cell_type": "code",
   "execution_count": 25,
   "metadata": {
    "collapsed": true
   },
   "outputs": [],
   "source": [
    "r_dataframe = pandas2ri.py2ri(df)\n"
   ]
  },
  {
   "cell_type": "code",
   "execution_count": 26,
   "metadata": {},
   "outputs": [
    {
     "name": "stdout",
     "output_type": "stream",
     "text": [
      "<class 'rpy2.robjects.vectors.DataFrame'>\n"
     ]
    }
   ],
   "source": [
    "print(type(r_dataframe))\n"
   ]
  },
  {
   "cell_type": "code",
   "execution_count": 27,
   "metadata": {},
   "outputs": [
    {
     "name": "stdout",
     "output_type": "stream",
     "text": [
      "      A B C\n",
      "\r\n",
      "one   1 4 7\n",
      "\r\n",
      "two   2 5 8\n",
      "\r\n",
      "three 3 6 9\n",
      "\n"
     ]
    }
   ],
   "source": [
    "print(r_dataframe)\n"
   ]
  },
  {
   "cell_type": "code",
   "execution_count": 28,
   "metadata": {
    "collapsed": true
   },
   "outputs": [],
   "source": [
    "pd_df_back = pandas2ri.ri2py(r_dataframe)"
   ]
  },
  {
   "cell_type": "code",
   "execution_count": 29,
   "metadata": {},
   "outputs": [
    {
     "data": {
      "text/html": [
       "<div>\n",
       "<style>\n",
       "    .dataframe thead tr:only-child th {\n",
       "        text-align: right;\n",
       "    }\n",
       "\n",
       "    .dataframe thead th {\n",
       "        text-align: left;\n",
       "    }\n",
       "\n",
       "    .dataframe tbody tr th {\n",
       "        vertical-align: top;\n",
       "    }\n",
       "</style>\n",
       "<table border=\"1\" class=\"dataframe\">\n",
       "  <thead>\n",
       "    <tr style=\"text-align: right;\">\n",
       "      <th></th>\n",
       "      <th>A</th>\n",
       "      <th>B</th>\n",
       "      <th>C</th>\n",
       "    </tr>\n",
       "  </thead>\n",
       "  <tbody>\n",
       "    <tr>\n",
       "      <th>0</th>\n",
       "      <td>1</td>\n",
       "      <td>4</td>\n",
       "      <td>7</td>\n",
       "    </tr>\n",
       "    <tr>\n",
       "      <th>1</th>\n",
       "      <td>2</td>\n",
       "      <td>5</td>\n",
       "      <td>8</td>\n",
       "    </tr>\n",
       "    <tr>\n",
       "      <th>2</th>\n",
       "      <td>3</td>\n",
       "      <td>6</td>\n",
       "      <td>9</td>\n",
       "    </tr>\n",
       "  </tbody>\n",
       "</table>\n",
       "</div>"
      ],
      "text/plain": [
       "   A  B  C\n",
       "0  1  4  7\n",
       "1  2  5  8\n",
       "2  3  6  9"
      ]
     },
     "execution_count": 29,
     "metadata": {},
     "output_type": "execute_result"
    }
   ],
   "source": [
    "pd_df_back.head()"
   ]
  }
 ],
 "metadata": {
  "file_extension": ".py",
  "kernelspec": {
   "display_name": "Python 3.6.1",
   "language": "python",
   "name": "python3"
  },
  "language_info": {
   "codemirror_mode": {
    "name": "ipython",
    "version": 3
   },
   "file_extension": ".py",
   "mimetype": "text/x-python",
   "name": "python",
   "nbconvert_exporter": "python",
   "pygments_lexer": "ipython3",
   "version": "3.6.8"
  },
  "mimetype": "text/x-python",
  "name": "python",
  "npconvert_exporter": "python",
  "pygments_lexer": "ipythonP",
  "version": "Python 3.6.1 :: Anaconda custom (64-bit)"
 },
 "nbformat": 4,
 "nbformat_minor": 2
}
